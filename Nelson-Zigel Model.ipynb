{
 "cells": [
  {
   "cell_type": "markdown",
   "metadata": {},
   "source": [
    "# Моделирование кривой процентных ставок\n",
    "\n",
    "Цена обычной облигации без встроенных опционов определяется как дисконтированный денежный поток всех будущих выплат. Выплаты включают в себя купонные выплаты в течение срока (для купонных облигаций) и выплату номинала в дату погашения облигации. Таким образом справедливая цена такой облигации определяется следующей формулой:\n",
    "\n",
    "$$NPV = \\sum_{t=1}^{n} \\frac{CF_t}{(1 + r)^t}$$\n",
    "\n",
    "Для облигации с постоянным купоном $С$ иноминалом $N$ формула принимает следующий вид:\n",
    "\n",
    "$$NPV = \\sum_{t=1}^{n} \\frac{C}{(1 + r)^t} + \\frac{M}{(1 + n)^n}$$\n",
    "\n",
    "В данной формуле используется единая ставка дисконтирования $R$, что в общем случае является грубой предпосылкой равенства доходности к погошению для инструментов с разным сроком погашения. Для более точной оценки облигаций необходимо учитывать структуру процентных ставок для долговых инструментов с разным сроком погашения и для дисконтирования каждого потока использовать соответствующую периоду денежного потока ставку, т.е. использовать следующую формулу:\n",
    "\n",
    "$$NPV = \\sum_{t=1}^{n} \\frac{C}{(1 + r_t)^t} + \\frac{M}{(1 + r_n)^n}$$\n",
    "\n",
    "Если довыплаты купона остается меньше целового периода, тоцену можно определить последующей формуле:\n",
    "\n",
    "$$NPV = \\sum_{t=1}^{n} \\frac{C}{(1 + r_t)^v \\cdot (1 + r_t)^{t-1}} + \\frac{M}{(1 + r_n)^v \\cdot (1 + r_n)^{n-1}}$$\n",
    "\n",
    ", где\n",
    "\n",
    "$$v = \\frac{число \\ дней \\ до \\ следующего \\ купона}{число \\ дней \\ в \\ периоде}$$\n",
    "\n",
    "В данной заметке я рассмотрю несколько способов моделирования кривой процентных ставок, которая будет использоваться для получения ставок дисконтирования будущих денежных потоков в оценке одной и той же облигации с известной ценой. Интересно посмотреть как точно разные методы позволяют оценить облигацию.\n",
    "\n",
    "### Общая постановка задачи. Анализ исходных данных.\n",
    "\n",
    "Имется данные по ценам 44 государственных облигаций Германии с различным сроком погашения. Все бумаги в одной валюте - EUR. Дата выгрузки данных - 18 октября 2007. В выборке имеются как купонные, так и бескупонные бумаги. Все купонные бумаги с одниковой периодичностью выплат купонов - один раз в год, даты купонных выплат для некоторых бумаг отличаются.\n",
    "\n",
    "Исходные данные представлены в Excel документе, на первой странице (\"Бумаги\") предствлены общие данные по котировкам бумаг. Поля данных включают следующие:\n",
    "\n",
    "1. Код бумаги\n",
    "2. Чистая цена\n",
    "3. Величина накопленного купонного дохода (НКД)\n",
    "4. Ставка купона\n",
    "5. Дата погашения\n",
    "6. Количество рабочих дней до погашения\n",
    "\n",
    "Данные по периодичности купонных платежей представлены на второй странице (\"Купонная матрица\") в виде матрицы купонных выплат для представленных бумаг. Формат следующий: в колонке \"B\" представлены названия бумаг, в этой же строке даты выплат, под ними размер выплат.\n",
    "\n",
    "Загружаем исходные данные:"
   ]
  },
  {
   "cell_type": "code",
   "execution_count": 258,
   "metadata": {
    "collapsed": false
   },
   "outputs": [],
   "source": [
    "%matplotlib inline\n",
    "\n",
    "import seaborn\n",
    "seaborn.mpl.rcParams['figure.figsize'] = (7.0, 4.0)\n",
    "seaborn.mpl.rcParams['savefig.dpi'] = 100\n",
    "\n",
    "import numpy as np\n",
    "import pandas as pd\n",
    "import pyexcel_xls as pe\n",
    "\n",
    "\n",
    "sheets = pe.get_data('data/bonds.xls')\n",
    "\n",
    "current_date = pd.datetime(2007, 10, 18).date()\n",
    "\n",
    "def read_bonds_data(sheets, bonds_sheet = 'Бумаги', bonds_start = 6):\n",
    "    bonds_data = {\n",
    "        'code' : [],\n",
    "        'net_price' : [], \n",
    "        'cd' : [], \n",
    "        'coupon_rate' : [],\n",
    "        'maturity_date' : [],\n",
    "        'maturity_days' : []\n",
    "    }\n",
    "    for row in sheets[bonds_sheet][bonds_start:]:\n",
    "        if (len(row) > 0):\n",
    "            bonds_data['code'].append(row[1])\n",
    "            bonds_data['net_price'].append(row[2])\n",
    "            bonds_data['cd'].append(row[3])\n",
    "            bonds_data['coupon_rate'].append(row[5])\n",
    "            bonds_data['maturity_date'].append(row[11])\n",
    "            bonds_data['maturity_days'].append(row[12])\n",
    "    return pd.DataFrame(bonds_data)\n",
    "\n",
    "def read_coupon_matrix(sheets, cf_matrix_sheet = 'Купонная матрица', matrix_start = 2):\n",
    "    current_code=None\n",
    "    cash_flow=None\n",
    "    date=True\n",
    "    data = {}\n",
    "    for row in sheets[cf_matrix_sheet][matrix_start:]:\n",
    "        if (len(row) > 0):\n",
    "            if date:\n",
    "                current_code = row[1]\n",
    "                cash_flow = {\n",
    "                    'date' : [],\n",
    "                    current_code : []\n",
    "                }\n",
    "                cash_flow.update({'date' : row[2:]})\n",
    "                date = False\n",
    "            else:\n",
    "                date = True\n",
    "                cash_flow.update({current_code : row[2:]})\n",
    "                s = pd.Series(cash_flow[current_code], index=cash_flow['date'])\n",
    "                df = pd.DataFrame({\n",
    "                        'date' : cash_flow['date'],\n",
    "                        'value' : pd.Series(cash_flow[current_code], index=cash_flow['date'])\n",
    "                    })\n",
    "                data.update({current_code : df})\n",
    "                \n",
    "    return data\n",
    "\n",
    "coupon_matrix = read_coupon_matrix(sheets)\n",
    "bonds_df = read_bonds_data(sheets)\n",
    "\n",
    "class Payment():\n",
    "    \n",
    "    def __init__(self, date, days, value):\n",
    "        self.date = date\n",
    "        self.days = days\n",
    "        self.value = value\n",
    "\n",
    "def create_cf(bond_payments, current_date):\n",
    "    payments = []\n",
    "    bond_payments['days'] = (bond_payments['date'] - current_date).dt.days\n",
    "    for index, row in bond_payments.iterrows():\n",
    "        payments.append(Payment(row['date'], row['days'], row['value']))\n",
    "    return payments\n"
   ]
  },
  {
   "cell_type": "code",
   "execution_count": 259,
   "metadata": {
    "collapsed": false
   },
   "outputs": [
    {
     "data": {
      "text/html": [
       "<div>\n",
       "<table border=\"1\" class=\"dataframe\">\n",
       "  <thead>\n",
       "    <tr style=\"text-align: right;\">\n",
       "      <th></th>\n",
       "      <th>cd</th>\n",
       "      <th>code</th>\n",
       "      <th>coupon_rate</th>\n",
       "      <th>maturity_date</th>\n",
       "      <th>maturity_days</th>\n",
       "      <th>net_price</th>\n",
       "    </tr>\n",
       "  </thead>\n",
       "  <tbody>\n",
       "    <tr>\n",
       "      <th>10</th>\n",
       "      <td>1.364754</td>\n",
       "      <td>EC155787 Corp</td>\n",
       "      <td>4.5</td>\n",
       "      <td>2009-07-04</td>\n",
       "      <td>625</td>\n",
       "      <td>100.515</td>\n",
       "    </tr>\n",
       "  </tbody>\n",
       "</table>\n",
       "</div>"
      ],
      "text/plain": [
       "          cd           code  coupon_rate maturity_date  maturity_days  \\\n",
       "10  1.364754  EC155787 Corp          4.5    2009-07-04            625   \n",
       "\n",
       "    net_price  \n",
       "10    100.515  "
      ]
     },
     "execution_count": 259,
     "metadata": {},
     "output_type": "execute_result"
    }
   ],
   "source": [
    "bonds_df[bonds_df['code'] == 'EC155787 Corp']"
   ]
  },
  {
   "cell_type": "code",
   "execution_count": 303,
   "metadata": {
    "collapsed": false
   },
   "outputs": [],
   "source": [
    "\n",
    "class Bond():\n",
    "    \n",
    "    def __init__(self, code, coupon_rate, payments_per_year, payments, price, accrued_interest):\n",
    "        self.code = code\n",
    "        self.coupon_rate = coupon_rate\n",
    "        self.payments_per_year = payments_per_year\n",
    "        self.payments = payments\n",
    "        self.price = price\n",
    "        self.accrued_interest = accrued_interest\n",
    "        \n",
    "    def calc_price(self, rates):\n",
    "        first_payment = self.payments[0]\n",
    "        v = float(first_payment.days) / float(364 / self.payments_per_year) if self.payments_per_year > 0 else 0.0\n",
    "        npv = 0.0\n",
    "        i = 1\n",
    "        for p in self.payments:\n",
    "            rate = rates[i-1]\n",
    "            npv += float(p.value) / (pow((1 + rate), v)*pow((1 + rate), i - 1))\n",
    "            i += 1\n",
    "        return npv / 1000000\n",
    "    \n",
    "    def macauley_duration(self, rates):\n",
    "        \n",
    "    \n",
    "    def tot_price(self):\n",
    "        return float(self.price + self.accrued_interest) / 100.0\n",
    "        \n",
    "    def print_info(self):\n",
    "        print(\"-------------------------------------------\")\n",
    "        print(\"BOND CODE:           '%s'\" % self.code)\n",
    "        print(\"-------------------------------------------\")\n",
    "        print(\"DAYS TO MATURITY:    %d\" % self.payments[-1].days)\n",
    "        print(\"PAYMENTS PER YEAR:   %d\" % self.payments_per_year)\n",
    "        print(\"COUPON RATE:         %f\" % self.coupon_rate)\n",
    "        print(\"-------------------------------------------\")\n",
    "        print(\"EXPECTED PAYMENTS:\")\n",
    "        count = 1\n",
    "        for p in self.payments:\n",
    "            print(\"%3d. %s (%5d days) %d\" % (count, p.date, p.days, p.value))\n",
    "            count += 1\n",
    "        \n",
    "        print(\"-------------------------------------------\")\n",
    "        \n",
    "payments = create_cf(coupon_matrix['EC155787 Corp'], current_date)\n",
    "bond = Bond('EC155787 Corp', 4, 1, payments, 100, 1)\n",
    "            "
   ]
  },
  {
   "cell_type": "markdown",
   "metadata": {},
   "source": [
    "Посмотрим облигации с какими сроками погашения представлены в выборке."
   ]
  },
  {
   "cell_type": "code",
   "execution_count": 292,
   "metadata": {
    "collapsed": false
   },
   "outputs": [
    {
     "data": {
      "text/plain": [
       "<matplotlib.axes._subplots.AxesSubplot at 0x1155de6a0>"
      ]
     },
     "execution_count": 292,
     "metadata": {},
     "output_type": "execute_result"
    },
    {
     "data": {
      "image/png": "[encoded data removed]",
      "text/plain": [
       "<matplotlib.figure.Figure at 0x1155d3898>"
      ]
     },
     "metadata": {},
     "output_type": "display_data"
    }
   ],
   "source": [
    "bonds_df['maturity_days'].hist(bins=30)"
   ]
  },
  {
   "cell_type": "markdown",
   "metadata": {},
   "source": [
    "Полученная матрица содержит выплаты по инструментам в каждую заданную дату. Дата учитывается в матрице, если хотя бы по одному инструменту в эту дату есть платежь. Для инструментов, у которых в эту дату платежей нет, в матрице будет значение 0. Таким образом, если задать вектор $a$ содержащий дисконтирующий фактор для каждой даты, то умножение матрицы на этот вектор даст вектор цен инструментов.\n",
    "\n",
    "### Модель кривой процентных ставок.\n",
    "\n",
    "Подготовим данные по бумагам."
   ]
  },
  {
   "cell_type": "code",
   "execution_count": 318,
   "metadata": {
    "collapsed": false
   },
   "outputs": [],
   "source": [
    "bonds = []\n",
    "for i, bond_data in bonds_df.iterrows():\n",
    "    bond_code = bond_data['code']\n",
    "    payments = create_cf(coupon_matrix[bond_code], current_date)\n",
    "    coupon_rate = float(bond_data['coupon_rate']) / 100.0 \n",
    "    # TODO костыль\n",
    "    payments_per_year = 1 if coupon_rate > 0 else 0\n",
    "    price = bond_data['net_price']\n",
    "    accrued_interest = bond_data['cd']\n",
    "    bond = Bond(bond_code, coupon_rate, payments_per_year, payments, price, accrued_interest)\n",
    "    bonds.append(bond)"
   ]
  },
  {
   "cell_type": "markdown",
   "metadata": {},
   "source": [
    "#### Метод Нельсона-Зигеля. \n",
    "\n",
    "Задаем кривую ставок в параметрическом виде и оптимизируем по среднеквадратичной ошибке оценки имеющихся облигаций.\n",
    "\n",
    "# $r(\\tau) = \\beta_0 + (\\beta_1 + \\beta_2) (1 - e^{-\\tau / a})\\frac{a}{\\tau} - \\beta_2 e^{-\\tau / a}$"
   ]
  },
  {
   "cell_type": "code",
   "execution_count": 316,
   "metadata": {
    "collapsed": true
   },
   "outputs": [],
   "source": [
    "from scipy.optimize import minimize\n",
    "\n",
    "class NelsonZigelModel():\n",
    "    \n",
    "    def __init__(self):\n",
    "        self.a = 1.0\n",
    "        self.params = np.array([1, 1, 1])\n",
    "        \n",
    "    def error_func(self, bonds):\n",
    "        def error(params):\n",
    "            error_value = 0.0\n",
    "            for bond in bonds:\n",
    "                price = self.evaluate(params, bond)\n",
    "                error_value += np.power(price - bond.tot_price(), 2)\n",
    "            return error_value\n",
    "        return error                  \n",
    "        \n",
    "    def fit(self, bonds):\n",
    "        result = minimize(\n",
    "            self.error_func(bonds), self.params, options={'disp': True, 'maxiter': 1000}\n",
    "        )\n",
    "        self.params = result.x                                           \n",
    "        return self\n",
    "        \n",
    "    def get_rates(self, params, days):\n",
    "        rates = []\n",
    "        for d in days:\n",
    "            nz = self.nelson_zigel(params, d)\n",
    "            rates.append(nz)\n",
    "        return rates\n",
    "            \n",
    "    def nelson_zigel(self, params, d):\n",
    "        return params[0] + (params[1] + params[2]) * (1 - np.power(np.e, (-d / self.a))) * (self.a / d) - params[2] * np.power(np.e, (-d / self.a))\n",
    "            \n",
    "    def evaluate(self, params, bond):\n",
    "        # запрашиваем у модели кривой ставок значения ставок для платежей по этому бонду\n",
    "        rates = self.get_rates(params, [p.days for p in bond.payments])\n",
    "        return bond.calc_price(rates)"
   ]
  },
  {
   "cell_type": "code",
   "execution_count": 319,
   "metadata": {
    "collapsed": false
   },
   "outputs": [
    {
     "name": "stdout",
     "output_type": "stream",
     "text": [
      "Optimization terminated successfully.\n",
      "         Current function value: 0.003124\n",
      "         Iterations: 9\n",
      "         Function evaluations: 110\n",
      "         Gradient evaluations: 22\n"
     ]
    },
    {
     "data": {
      "text/plain": [
       "[<matplotlib.lines.Line2D at 0x1156f2ef0>]"
      ]
     },
     "execution_count": 319,
     "metadata": {},
     "output_type": "execute_result"
    },
    {
     "data": {
      "image/png": "[encoded data removed]",
      "text/plain": [
       "<matplotlib.figure.Figure at 0x123b63ef0>"
      ]
     },
     "metadata": {},
     "output_type": "display_data"
    }
   ],
   "source": [
    "%matplotlib inline\n",
    "\n",
    "import matplotlib\n",
    "import matplotlib.pyplot as plt\n",
    "\n",
    "import seaborn\n",
    "seaborn.mpl.rcParams['figure.figsize'] = (7.0, 4.0)\n",
    "seaborn.mpl.rcParams['savefig.dpi'] = 100\n",
    "\n",
    "nz_model = NelsonZigelModel().fit(bonds)\n",
    "\n",
    "days = [i for i in range(100, 500, 10)]\n",
    "rates = model.get_rates(nz_model.params, days)\n",
    "\n",
    "plt.plot(days, rates, 'r')"
   ]
  }
 ],
 "metadata": {
  "anaconda-cloud": {},
  "kernelspec": {
   "display_name": "Python [conda root]",
   "language": "python",
   "name": "conda-root-py"
  },
  "language_info": {
   "codemirror_mode": {
    "name": "ipython",
    "version": 3
   },
   "file_extension": ".py",
   "mimetype": "text/x-python",
   "name": "python",
   "nbconvert_exporter": "python",
   "pygments_lexer": "ipython3",
   "version": "3.5.2"
  },
  "widgets": {
   "state": {},
   "version": "1.1.2"
  }
 },
 "nbformat": 4,
 "nbformat_minor": 2
}
